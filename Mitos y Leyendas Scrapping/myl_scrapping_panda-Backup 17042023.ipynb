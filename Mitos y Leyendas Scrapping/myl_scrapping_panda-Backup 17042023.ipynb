{
 "cells": [
  {
   "cell_type": "code",
   "execution_count": 1,
   "id": "d0f24755",
   "metadata": {},
   "outputs": [],
   "source": [
    "from bs4 import BeautifulSoup as soup\n",
    "from urllib.request import urlopen as uReq\n",
    "import requests\n",
    "import pandas as pd"
   ]
  },
  {
   "cell_type": "code",
   "execution_count": 2,
   "id": "85a16133",
   "metadata": {},
   "outputs": [],
   "source": [
    "root = 'https://myl.fandom.com'\n",
    "deckList = f'{root}/es/wiki/Categor%C3%ADa:Lista_de_Cartas'\n",
    "page_html = requests.get(deckList)\n",
    "page_soup = soup(page_html.text, \"lxml\")"
   ]
  },
  {
   "cell_type": "code",
   "execution_count": 3,
   "id": "4d11d21e",
   "metadata": {},
   "outputs": [],
   "source": [
    "box = page_soup.find('div' , class_='category-page__members')\n",
    "deckList = box.findAll('a', class_= 'category-page__member-link', href=True)\n",
    "#deckList"
   ]
  },
  {
   "cell_type": "code",
   "execution_count": 4,
   "id": "d622ea85",
   "metadata": {},
   "outputs": [],
   "source": [
    "decksFirstEra = {'El_Reto', 'Mundo_G%C3%B3tico', 'La_Ira_del_Nahual', 'Ragnarok' , 'La_Cofrad%C3%ADa', 'Esp%C3%ADritu_de_Drag%C3%B3n'}"
   ]
  },
  {
   "cell_type": "code",
   "execution_count": 5,
   "id": "97933e4d",
   "metadata": {},
   "outputs": [],
   "source": [
    "deckLinks = []\n",
    "for link in deckList:\n",
    "        deckLinks.append(link['href'])"
   ]
  },
  {
   "cell_type": "code",
   "execution_count": 6,
   "id": "c6969dd6",
   "metadata": {},
   "outputs": [],
   "source": [
    "decksLinkFE = []\n",
    "for link in deckLinks:\n",
    "    if any(i in link for i in decksFirstEra):\n",
    "        decksLinkFE.append(link)"
   ]
  },
  {
   "cell_type": "code",
   "execution_count": 7,
   "id": "7a70010a",
   "metadata": {},
   "outputs": [],
   "source": [
    "for link in decksLinkFE:\n",
    "    cardList = f'{root}{link}'\n",
    "    print (cardList)\n",
    "    df = pd.read_html(cardList)\n",
    "    #print (df)\n",
    "    filename = cardList.replace('https://myl.fandom.com/es/wiki/', '')\n",
    "    print(filename)\n",
    "    df[1].to_csv(filename + '.csv', index=False)"
   ]
  },
  {
   "cell_type": "code",
   "execution_count": 8,
   "id": "e14f7291",
   "metadata": {},
   "outputs": [],
   "source": [
    "#cardTable = card_page_soup.find('table', class_='lista sortable mergetable col2cen col3cen col4cen center')\n",
    "#cardList = cardTable.findAll('tr', class_= '')\n",
    "#print(cardList[0])"
   ]
  },
  {
   "cell_type": "code",
   "execution_count": 9,
   "id": "832e3f90",
   "metadata": {},
   "outputs": [],
   "source": [
    "#df = pd.DataFrame(columns=['N', 'Nombre', 'Tipo', 'Frecuencia', 'Arte'])\n",
    "\n",
    "# Collecting Ddata\n",
    "#for row in cardTable.tbody.find_all('tr'):    \n",
    "    # Find all data for each column\n",
    " #   columns = row.find_all('td')\n",
    "  #  if(columns != []):\n",
    "   #     N = columns[0].text.strip()\n",
    "    #    Nombre = columns[1].text.strip()\n",
    "     #   Tipo = columns[2].text.strip()\n",
    "      #  Frecuencia = columns[3].text.strip()\n",
    "       # Arte = columns[4].text.strip()\n",
    "\n",
    "        \n",
    "        #output = df.concat({'N': N, 'Nombre': Nombre})"
   ]
  },
  {
   "cell_type": "code",
   "execution_count": 10,
   "id": "c3968c53",
   "metadata": {},
   "outputs": [],
   "source": [
    "#df = pd.DataFrame(columns=['N', 'Nombre'])\n",
    "\n",
    "# Collecting Ddata\n",
    "#for row in cardTable.tbody.find_all('tr'):    \n",
    "    # Find all data for each column\n",
    "    #columns = row.find_all('td')\n",
    "    #if(columns != []):\n",
    "    #    N = columns[0].text.strip()\n",
    "    #    Nombre = columns[1].text.strip()\n",
    "        \n",
    "    #    output = df.concat({'N': N, 'Nombre': Nombre})"
   ]
  },
  {
   "cell_type": "code",
   "execution_count": 15,
   "id": "07dace06",
   "metadata": {},
   "outputs": [
    {
     "name": "stdout",
     "output_type": "stream",
     "text": [
      "https://myl.fandom.com/es/wiki/Lista_de_cartas_de_El_Reto\n",
      "Lista_de_cartas_de_El_Reto\n",
      "https://myl.fandom.com/es/wiki/Lista_de_cartas_de_El_Reto_X\n",
      "Lista_de_cartas_de_El_Reto_X\n",
      "https://myl.fandom.com/es/wiki/Lista_de_cartas_de_Esp%C3%ADritu_de_Drag%C3%B3n\n",
      "Lista_de_cartas_de_Esp%C3%ADritu_de_Drag%C3%B3n\n",
      "https://myl.fandom.com/es/wiki/Lista_de_cartas_de_La_Cofrad%C3%ADa\n",
      "Lista_de_cartas_de_La_Cofrad%C3%ADa\n",
      "https://myl.fandom.com/es/wiki/Lista_de_cartas_de_La_Ira_del_Nahual\n",
      "Lista_de_cartas_de_La_Ira_del_Nahual\n",
      "https://myl.fandom.com/es/wiki/Lista_de_cartas_de_Mundo_G%C3%B3tico\n",
      "Lista_de_cartas_de_Mundo_G%C3%B3tico\n",
      "https://myl.fandom.com/es/wiki/Lista_de_cartas_de_Mundo_G%C3%B3tico_X\n",
      "Lista_de_cartas_de_Mundo_G%C3%B3tico_X\n",
      "https://myl.fandom.com/es/wiki/Lista_de_cartas_de_Ragnarok\n",
      "Lista_de_cartas_de_Ragnarok\n"
     ]
    }
   ],
   "source": [
    "for link in decksLinkFE:\n",
    "    cardList = f'{root}{link}'\n",
    "    print (cardList)\n",
    "    df = pd.read_html(cardList)\n",
    "    #print (df)\n",
    "    filename = cardList.replace('https://myl.fandom.com/es/wiki/', '')\n",
    "    print(filename)\n",
    "    df[1].to_csv(filename + '.csv', index=False)"
   ]
  },
  {
   "cell_type": "code",
   "execution_count": null,
   "id": "04225f8c",
   "metadata": {},
   "outputs": [],
   "source": [
    "#print(df)"
   ]
  },
  {
   "cell_type": "code",
   "execution_count": null,
   "id": "efe22e5e",
   "metadata": {},
   "outputs": [],
   "source": []
  }
 ],
 "metadata": {
  "kernelspec": {
   "display_name": "Python 3 (ipykernel)",
   "language": "python",
   "name": "python3"
  },
  "language_info": {
   "codemirror_mode": {
    "name": "ipython",
    "version": 3
   },
   "file_extension": ".py",
   "mimetype": "text/x-python",
   "name": "python",
   "nbconvert_exporter": "python",
   "pygments_lexer": "ipython3",
   "version": "3.10.9"
  }
 },
 "nbformat": 4,
 "nbformat_minor": 5
}
