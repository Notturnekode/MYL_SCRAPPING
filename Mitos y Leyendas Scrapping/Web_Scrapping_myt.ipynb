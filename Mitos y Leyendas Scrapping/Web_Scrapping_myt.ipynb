{
 "cells": [
  {
   "cell_type": "code",
   "execution_count": 1,
   "id": "12632dcf",
   "metadata": {},
   "outputs": [],
   "source": [
    "from bs4 import BeautifulSoup as soup\n",
    "from urllib.request import urlopen as uReq\n",
    "import pandas as pd"
   ]
  },
  {
   "cell_type": "code",
   "execution_count": 2,
   "id": "a1d62eb1",
   "metadata": {},
   "outputs": [],
   "source": [
    "el_reto_url = 'https://myl.fandom.com/es/wiki/Lista_de_cartas_de_El_Reto'"
   ]
  },
  {
   "cell_type": "code",
   "execution_count": 3,
   "id": "995ede6f",
   "metadata": {},
   "outputs": [
    {
     "data": {
      "text/plain": [
       "'https://myl.fandom.com/es/wiki/Lista_de_cartas_de_El_Reto'"
      ]
     },
     "execution_count": 3,
     "metadata": {},
     "output_type": "execute_result"
    }
   ],
   "source": [
    "el_reto_url"
   ]
  },
  {
   "cell_type": "code",
   "execution_count": 4,
   "id": "e832be07",
   "metadata": {},
   "outputs": [],
   "source": [
    "uClient = uReq(el_reto_url)"
   ]
  },
  {
   "cell_type": "code",
   "execution_count": 5,
   "id": "7ce09806",
   "metadata": {},
   "outputs": [],
   "source": [
    "page_html = uClient.read()"
   ]
  },
  {
   "cell_type": "code",
   "execution_count": 6,
   "id": "d9fe096c",
   "metadata": {},
   "outputs": [],
   "source": [
    "uClient.close()"
   ]
  },
  {
   "cell_type": "code",
   "execution_count": 7,
   "id": "c2724365",
   "metadata": {},
   "outputs": [],
   "source": [
    "page_soup = soup(page_html, \"html.parser\")"
   ]
  },
  {
   "cell_type": "code",
   "execution_count": 8,
   "id": "8e044d82",
   "metadata": {},
   "outputs": [
    {
     "name": "stdout",
     "output_type": "stream",
     "text": [
      "Classes of Each Table:\n",
      "None\n",
      "['lista', 'sortable', 'mergetable', 'col2cen', 'col3cen', 'col4cen', 'center']\n"
     ]
    }
   ],
   "source": [
    "print('Classes of Each Table:')\n",
    "for table in page_soup.findAll(\"table\"):\n",
    "    print(table.get(\"class\"))"
   ]
  },
  {
   "cell_type": "code",
   "execution_count": 9,
   "id": "5e3fb376",
   "metadata": {},
   "outputs": [],
   "source": [
    " "
   ]
  },
  {
   "cell_type": "code",
   "execution_count": 10,
   "id": "bac08101",
   "metadata": {},
   "outputs": [
    {
     "data": {
      "text/plain": [
       "[<th><b>N°</b>\n",
       " </th>,\n",
       " <th><b>Nombre</b>\n",
       " </th>,\n",
       " <th><b>Tipo</b>\n",
       " </th>,\n",
       " <th><b>Frecuencia</b>\n",
       " </th>,\n",
       " <th><b>Arte</b>\n",
       " </th>]"
      ]
     },
     "execution_count": 10,
     "metadata": {},
     "output_type": "execute_result"
    }
   ],
   "source": [
    "card_table[0].tbody.findAll('th')"
   ]
  },
  {
   "cell_type": "code",
   "execution_count": 11,
   "id": "6980e673",
   "metadata": {},
   "outputs": [],
   "source": [
    "for row in card_table[0].tbody.findAll('th'):\n",
    "    column_name = row.findAll('b')"
   ]
  },
  {
   "cell_type": "code",
   "execution_count": 12,
   "id": "13aa1166",
   "metadata": {},
   "outputs": [
    {
     "data": {
      "text/plain": [
       "<b>Arte</b>"
      ]
     },
     "execution_count": 12,
     "metadata": {},
     "output_type": "execute_result"
    }
   ],
   "source": [
    "column_name[0]"
   ]
  },
  {
   "cell_type": "code",
   "execution_count": 4,
   "id": "13e5f8ce",
   "metadata": {},
   "outputs": [
    {
     "data": {
      "text/plain": [
       "[                     0                    1                    2\n",
       " 0  Matador de Gigantes  Matador de Gigantes  Matador de Gigantes\n",
       " 1                  NaN                  NaN                  NaN\n",
       " 2                  NaN                 Tipo             Talisman\n",
       " 3                  NaN         Coste de oro                    5\n",
       " 4                  NaN           Frecuencia                 Real\n",
       " 5                  NaN              Edición             Ragnarok\n",
       " 6                  NaN                  NaN                  NaN\n",
       " 7                  NaN                  NaN                  NaN\n",
       " 8                  NaN                  NaN                  NaN\n",
       " 9                  NaN                  NaN                  NaN,\n",
       "                                                 0\n",
       " 0                                       Habilidad\n",
       " 1  Todos tus aliados doblan su fuerza. Por turno.,\n",
       "                            0                 1\n",
       " 0                     Código        Ilustrador\n",
       " 1  2 - 126 / Primera Edición  Mauricio Herrera,\n",
       "                                                    0\n",
       " 0                                        Texto épico\n",
       " 1  Thor, el protector de dioses y hombres, en su ...,\n",
       "             0           1           2           3           4           5\n",
       " 0  Numeración  Numeración  Numeración  Numeración  Numeración  Numeración\n",
       " 1    Anterior   Siguiente         NaN         NaN         NaN         NaN\n",
       " 2   Los Eddas      Galdar         NaN         NaN         NaN         NaN,\n",
       "                                                   0\n",
       " 0  Todos tus aliados doblan su fuerza por el turno.\n",
       " 1  Todos tus aliados doblan su fuerza por el turno.,\n",
       "                                                   0\n",
       " 0  Todos tus aliados doblan su fuerza por el turno.]"
      ]
     },
     "execution_count": 4,
     "metadata": {},
     "output_type": "execute_result"
    }
   ],
   "source": [
    "import pandas as pd\n",
    "df = pd.read_html('https://myl.fandom.com/es/wiki/Matador_de_Gigantes')\n",
    "df"
   ]
  },
  {
   "cell_type": "code",
   "execution_count": null,
   "id": "f1ca3e38",
   "metadata": {},
   "outputs": [],
   "source": []
  }
 ],
 "metadata": {
  "kernelspec": {
   "display_name": "Python 3 (ipykernel)",
   "language": "python",
   "name": "python3"
  },
  "language_info": {
   "codemirror_mode": {
    "name": "ipython",
    "version": 3
   },
   "file_extension": ".py",
   "mimetype": "text/x-python",
   "name": "python",
   "nbconvert_exporter": "python",
   "pygments_lexer": "ipython3",
   "version": "3.10.9"
  }
 },
 "nbformat": 4,
 "nbformat_minor": 5
}
